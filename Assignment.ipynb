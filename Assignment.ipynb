{
 "cells": [
  {
   "cell_type": "code",
   "execution_count": 43,
   "id": "76d29193",
   "metadata": {},
   "outputs": [
    {
     "name": "stdout",
     "output_type": "stream",
     "text": [
      "Enter the number of classes held:100\n",
      "Enter the number of classes attended:10\n",
      "Any medical cause?(Y/N):N\n",
      "Attendence of Student is  10 %\n",
      "Student is not allowed for exam\n"
     ]
    }
   ],
   "source": [
    "held = int(input(\"Enter the number of classes held:\"))\n",
    "attend = int(input(\"Enter the number of classes attended:\"))\n",
    "perat = int((attend / held)*100)\n",
    "# type(perat)\n",
    "if perat < 75 :\n",
    "    a = input(\"Any medical cause?(Y/N):\")\n",
    "    if a == \"N\":\n",
    "        print(\"Attendence of Student is \",perat,\"%\")\n",
    "        print(\"Student is not allowed for exam\")\n",
    "    else:\n",
    "        print(\"Student is allowed\")\n",
    "    \n",
    "else:\n",
    "    print(\"Attendence of Student is \",perat,\"%\")\n",
    "    print(\"Student is allowed for exam\")"
   ]
  },
  {
   "cell_type": "code",
   "execution_count": 20,
   "id": "52c0677c",
   "metadata": {},
   "outputs": [
    {
     "name": "stdout",
     "output_type": "stream",
     "text": [
      "Enter the amount2010\n",
      "2010\n",
      "Number  =  1\n"
     ]
    }
   ],
   "source": [
    "#Number of notes\n",
    "\n",
    "amt = int(input(\"Enter the amount\"))\n",
    "print(amt)\n",
    "\n",
    "if amt/2000 > 0:\n",
    "    if()\n",
    "    print(\"2000  = \",amt//2000)\n",
    "    \n"
   ]
  },
  {
   "cell_type": "code",
   "execution_count": 56,
   "id": "add641b5",
   "metadata": {},
   "outputs": [
    {
     "name": "stdout",
     "output_type": "stream",
     "text": [
      "Enter the marks100\n",
      "A\n"
     ]
    }
   ],
   "source": [
    "marks = int(input(\"Enter the marks\"))\n",
    "if marks<25:\n",
    "    print(\"F\")\n",
    "elif (marks>=25) & (marks<=45):\n",
    "    print(\"E\")\n",
    "elif (marks>=45) & (marks<=50):\n",
    "    print(\"D\")\n",
    "elif (marks>=50) & (marks<=60):\n",
    "    print(\"C\")\n",
    "elif (marks>=60) & (marks<=80):\n",
    "    print(\"B\")\n",
    "else:\n",
    "    print(\"A\")\n",
    "\n",
    "    \n",
    "\n"
   ]
  },
  {
   "cell_type": "code",
   "execution_count": 70,
   "id": "5dfb6826",
   "metadata": {},
   "outputs": [
    {
     "name": "stdout",
     "output_type": "stream",
     "text": [
      "Enter the number: 25\n",
      "Number is divisible by 5 \n"
     ]
    }
   ],
   "source": [
    "#Divisiblitiy\n",
    "\n",
    "a = int(input(\"Enter the number: \"))\n",
    "if (a%5==0) :\n",
    "    print(\"Number is divisible by 5 \")\n",
    "elif (a%11==0):\n",
    "    print(\"Number is divisible by 11\")\n",
    "else:\n",
    "    print(\"Not divisible\")"
   ]
  },
  {
   "cell_type": "code",
   "execution_count": 76,
   "id": "82dfc3dc",
   "metadata": {},
   "outputs": [
    {
     "name": "stdout",
     "output_type": "stream",
     "text": [
      "True\n",
      "True\n",
      "True\n",
      "True\n",
      "False\n"
     ]
    }
   ],
   "source": [
    "x = 2\n",
    "y = 5\n",
    "z = 0\n",
    "\n",
    "print(x == 2)\n",
    "print(x != 5)\n",
    "print(x != 5 and y >= 5)\n",
    "print(z != 0 or x == 2)\n",
    "print(not(y < 10))"
   ]
  },
  {
   "cell_type": "code",
   "execution_count": 97,
   "id": "e2eeb833",
   "metadata": {},
   "outputs": [
    {
     "name": "stdout",
     "output_type": "stream",
     "text": [
      "Enter the number of units350\n",
      "Bill:  -1500\n"
     ]
    }
   ],
   "source": [
    "#Electricity bill\n",
    "\n",
    "a = int(input(\"Enter the number of units\"))\n",
    "if a<=100:\n",
    "    print(\"No charges\")\n",
    "elif (a>=100 and a<=200):\n",
    "    amount = a-100\n",
    "    print(\"Bill: \",amount*5)\n",
    "else:\n",
    "    amount2 = amount-200\n",
    "    print(\"Bill: \",amount2*10)\n",
    "    "
   ]
  },
  {
   "cell_type": "code",
   "execution_count": 92,
   "id": "b598b404",
   "metadata": {},
   "outputs": [
    {
     "name": "stdout",
     "output_type": "stream",
     "text": [
      "Enter the digit236\n",
      "Number is divisible\n"
     ]
    }
   ],
   "source": [
    "#last digit\n",
    "\n",
    "a = int(input(\"Enter the digit\"))\n",
    "b = int(a%10)\n",
    "\n",
    "if (b%3==0):\n",
    "    print(\"Number is divisible\")\n",
    "else:\n",
    "    print(\"Number is not divisible\")"
   ]
  },
  {
   "cell_type": "code",
   "execution_count": 23,
   "id": "cd1a1e51",
   "metadata": {},
   "outputs": [
    {
     "data": {
      "text/plain": [
       "[0, 1, 2, 3, 4, 5, 6, 7, 8, 9]"
      ]
     },
     "execution_count": 23,
     "metadata": {},
     "output_type": "execute_result"
    }
   ],
   "source": [
    "#normal for\n",
    "\n",
    "\n",
    "# for i in range(1,11):\n",
    "#     print(i)\n",
    "range(10)\n",
    "list(range(10))"
   ]
  },
  {
   "cell_type": "code",
   "execution_count": 18,
   "id": "a371f517",
   "metadata": {},
   "outputs": [
    {
     "name": "stdout",
     "output_type": "stream",
     "text": [
      "Enter the number of elements: 3\n",
      "Enter the number1\n",
      "Enter the number2\n",
      "Enter the number3\n",
      "[1, 2, 3]\n",
      "2.0\n"
     ]
    }
   ],
   "source": [
    "### for loop average of 10 numbers\n",
    "\n",
    "\n",
    "num = []\n",
    "n = int(input(\"Enter the number of elements: \"))\n",
    "for i in range(1,n+1):\n",
    "    a = int(input(\"Enter the number\"))\n",
    "    num.append(a)\n",
    "\n",
    "print(num)\n",
    "\n",
    "average =  sum(num)/len(num)\n",
    "print(average)\n",
    "    "
   ]
  },
  {
   "cell_type": "code",
   "execution_count": 19,
   "id": "f11b0193",
   "metadata": {},
   "outputs": [
    {
     "name": "stdout",
     "output_type": "stream",
     "text": [
      "Enter the number1\n",
      "1.0\n",
      "Enter the number2\n",
      "2.0\n",
      "Enter the number3\n",
      "3.0\n",
      "Enter the number4\n",
      "4.0\n",
      "Enter the number5\n",
      "5.0\n",
      "Enter the number6\n",
      "6.0\n",
      "Enter the number7\n",
      "7.0\n",
      "Enter the number8\n",
      "8.0\n",
      "Enter the number9\n",
      "9.0\n",
      "Enter the number0\n",
      "0.0\n",
      "45.0\n",
      "4.5\n"
     ]
    }
   ],
   "source": [
    "#average manually\n",
    "\n",
    "idx = 0\n",
    "total = 0\n",
    "\n",
    "while idx < 10:\n",
    "    num = float(input(\"Enter the number\"))\n",
    "    print(num)\n",
    "    total = total + num\n",
    "    idx = idx + 1\n",
    "print(total)\n",
    "avg = total/10\n",
    "print(avg)"
   ]
  },
  {
   "cell_type": "code",
   "execution_count": 24,
   "id": "9c9d21db",
   "metadata": {},
   "outputs": [
    {
     "name": "stdout",
     "output_type": "stream",
     "text": [
      "Enter the number1\n",
      "Press q\n",
      "Enter the number2\n",
      "Press q\n",
      "Enter the number3\n",
      "Press q\n",
      "Enter the number4\n",
      "Press q\n",
      "Enter the numberq\n"
     ]
    },
    {
     "ename": "ValueError",
     "evalue": "invalid literal for int() with base 10: 'q'",
     "output_type": "error",
     "traceback": [
      "\u001b[1;31m---------------------------------------------------------------------------\u001b[0m",
      "\u001b[1;31mValueError\u001b[0m                                Traceback (most recent call last)",
      "Input \u001b[1;32mIn [24]\u001b[0m, in \u001b[0;36m<cell line: 4>\u001b[1;34m()\u001b[0m\n\u001b[0;32m      3\u001b[0m n \u001b[38;5;241m=\u001b[39m \u001b[38;5;241m0\u001b[39m\n\u001b[0;32m      4\u001b[0m \u001b[38;5;28;01mwhile\u001b[39;00m n\u001b[38;5;241m!=\u001b[39m\u001b[38;5;124m\"\u001b[39m\u001b[38;5;124mq\u001b[39m\u001b[38;5;124m\"\u001b[39m:\n\u001b[1;32m----> 5\u001b[0m     a \u001b[38;5;241m=\u001b[39m \u001b[38;5;28;43mint\u001b[39;49m\u001b[43m(\u001b[49m\u001b[38;5;28;43minput\u001b[39;49m\u001b[43m(\u001b[49m\u001b[38;5;124;43m\"\u001b[39;49m\u001b[38;5;124;43mEnter the number\u001b[39;49m\u001b[38;5;124;43m\"\u001b[39;49m\u001b[43m)\u001b[49m\u001b[43m)\u001b[49m\n\u001b[0;32m      6\u001b[0m     b \u001b[38;5;241m=\u001b[39m \u001b[38;5;28mprint\u001b[39m(\u001b[38;5;124m\"\u001b[39m\u001b[38;5;124mPress q\u001b[39m\u001b[38;5;124m\"\u001b[39m)\n\u001b[0;32m      7\u001b[0m     total \u001b[38;5;241m=\u001b[39m total \u001b[38;5;241m+\u001b[39m a\n",
      "\u001b[1;31mValueError\u001b[0m: invalid literal for int() with base 10: 'q'"
     ]
    }
   ],
   "source": [
    "#my until q is pressed\n",
    "\n",
    "n = 0\n",
    "while n!=\"q\":\n",
    "    \n",
    "    a = int(input(\"Enter the number\"))\n",
    "    b = print(\"Press q\")\n",
    "    total = total + a\n",
    "print(total)\n",
    "# total"
   ]
  },
  {
   "cell_type": "code",
   "execution_count": 37,
   "id": "82ec1640",
   "metadata": {},
   "outputs": [
    {
     "name": "stdout",
     "output_type": "stream",
     "text": [
      "enter a number or press q to quit10\n",
      "enter a number or press q to quit20\n",
      "enter a number or press q to quitq\n",
      "quitted\n",
      "Average 15.0 product 200\n"
     ]
    }
   ],
   "source": [
    "## until q id pressed\n",
    "\n",
    "total = 0\n",
    "product = 1\n",
    "count = 0\n",
    "num = 0\n",
    "while (num != 'q'):\n",
    "    num = input(\"enter a number or press q to quit\")\n",
    "    if (num == 'q') or (num == 'Q'):\n",
    "        print(\"quitted\")\n",
    "        continue\n",
    "    num = int(num)\n",
    "    total +=num\n",
    "    product *=num\n",
    "    count += 1\n",
    "print(\"Average\",total/count , \"product\", product)\n",
    "    "
   ]
  }
 ],
 "metadata": {
  "kernelspec": {
   "display_name": "Python 3 (ipykernel)",
   "language": "python",
   "name": "python3"
  },
  "language_info": {
   "codemirror_mode": {
    "name": "ipython",
    "version": 3
   },
   "file_extension": ".py",
   "mimetype": "text/x-python",
   "name": "python",
   "nbconvert_exporter": "python",
   "pygments_lexer": "ipython3",
   "version": "3.9.12"
  }
 },
 "nbformat": 4,
 "nbformat_minor": 5
}
