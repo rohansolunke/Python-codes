{
 "cells": [
  {
   "cell_type": "code",
   "execution_count": 1,
   "id": "c0d1cacb",
   "metadata": {},
   "outputs": [
    {
     "name": "stdout",
     "output_type": "stream",
     "text": [
      "hello this is my first pyhton prog\n"
     ]
    }
   ],
   "source": [
    "print(\"hello this is my first pyhton prog\")"
   ]
  },
  {
   "cell_type": "code",
   "execution_count": 3,
   "id": "43d550dc",
   "metadata": {},
   "outputs": [
    {
     "name": "stdout",
     "output_type": "stream",
     "text": [
      "Enter the first number12\n",
      "Enter the second number23\n",
      "35\n"
     ]
    }
   ],
   "source": [
    "a = int(input(\"Enter the first number\"))\n",
    "b = int(input(\"Enter the second number\"))\n",
    "c = a + b\n",
    "print(c)"
   ]
  },
  {
   "cell_type": "code",
   "execution_count": 2,
   "id": "dbeabefe",
   "metadata": {},
   "outputs": [
    {
     "name": "stdout",
     "output_type": "stream",
     "text": [
      "24 is greatest\n"
     ]
    }
   ],
   "source": [
    "#greatest of three\n",
    "\n",
    "a = 10\n",
    "b = 12\n",
    "c = 3\n",
    "greatest = 0\n",
    "if (a>b) and (a>c):\n",
    "    print(a,\"is greatest\")\n",
    "elif (b>c) and (b>a):\n",
    "    print(b,\"is greatest\")\n",
    "else:\n",
    "    print(c,\"is greatest\")\n"
   ]
  },
  {
   "cell_type": "code",
   "execution_count": 14,
   "id": "9c67ee3e",
   "metadata": {},
   "outputs": [
    {
     "name": "stdout",
     "output_type": "stream",
     "text": [
      "Enter the number : 23\n",
      "prime number\n"
     ]
    }
   ],
   "source": [
    "#prime number\n",
    "\n",
    "i,temp = 0,0\n",
    "n = int(input(\"Enter the number : \"))\n",
    "\n",
    "for i in range(2,n//2):\n",
    "    if n%i == 0:\n",
    "        temp = 1\n",
    "        break\n",
    "if temp == 1:\n",
    "    print(\"not a prime numberw\")\n",
    "else:\n",
    "    print(\"prime number\")"
   ]
  },
  {
   "cell_type": "code",
   "execution_count": 25,
   "id": "0e1a2225",
   "metadata": {},
   "outputs": [
    {
     "name": "stdout",
     "output_type": "stream",
     "text": [
      "2 3 5 7 11 13 17 19 23 29 31 37 41 43 47 53 59 61 67 71 73 79 83 89 97 "
     ]
    }
   ],
   "source": [
    "#prime numbers from 1-100\n",
    "\n",
    "for i in range(2,100):\n",
    "    count = 0\n",
    "    for m in range(2,i//2+1):\n",
    "        if i%m == 0:\n",
    "            count = count+1\n",
    "            break\n",
    "            \n",
    "    if(count == 0 and i!=1):\n",
    "        print(i,end=\" \")"
   ]
  },
  {
   "cell_type": "code",
   "execution_count": 6,
   "id": "6f7a855d",
   "metadata": {},
   "outputs": [
    {
     "name": "stdout",
     "output_type": "stream",
     "text": [
      "Enter the number1234\n",
      "10\n"
     ]
    }
   ],
   "source": [
    "#### sum of digits in integer\n",
    "\n",
    "n = int(input(\"Enter the number\"))\n",
    "total = 0\n",
    "while(n!=0):\n",
    "    total = total + n%10\n",
    "    n = n//10\n",
    "print(total)"
   ]
  },
  {
   "cell_type": "code",
   "execution_count": 7,
   "id": "41b07d86",
   "metadata": {},
   "outputs": [
    {
     "name": "stdout",
     "output_type": "stream",
     "text": [
      "Enter the number1234\n",
      "4321\n"
     ]
    }
   ],
   "source": [
    "#reverse an interger\n",
    "\n",
    "n = int(input(\"Enter the number\"))\n",
    "reverse = 0\n",
    "while(n!=0):\n",
    "    reverse = reverse*10 + n%10\n",
    "    n = n//10\n",
    "print(reverse)"
   ]
  },
  {
   "cell_type": "code",
   "execution_count": 11,
   "id": "004a1f95",
   "metadata": {},
   "outputs": [
    {
     "name": "stdout",
     "output_type": "stream",
     "text": [
      "hsetnihc\n"
     ]
    }
   ],
   "source": [
    "#reverse a string\n",
    "\n",
    "n = \"chintesh\"\n",
    "\n",
    "print(n[::-1])\n"
   ]
  },
  {
   "cell_type": "code",
   "execution_count": 26,
   "id": "9730fa9d",
   "metadata": {},
   "outputs": [
    {
     "name": "stdout",
     "output_type": "stream",
     "text": [
      "[45, 3, 2, 10]\n"
     ]
    }
   ],
   "source": [
    "#reverse an array\n",
    "\n",
    "size  = int(input(\"Enter the size of array\"))\n",
    "arr = []\n",
    "revarr = []\n",
    "\n",
    "for x in range(size):\n",
    "    elem = int(input(\"Enter the number\"))\n",
    "    arr.append(elem)\n",
    "print(\"Normal Array = \",arr)\n",
    "startIndex = 0\n",
    "lastIndex = size - 1\n",
    "\n",
    "while (lastIndex>=0):\n",
    "    revarr.append(arr[lastIndex])\n",
    "#     startIndex+=1\n",
    "    lastIndex-=1\n",
    "    \n",
    "print(\"Array in reverse order\")\n",
    "print(revarr)"
   ]
  },
  {
   "cell_type": "code",
   "execution_count": 35,
   "id": "5a586da6",
   "metadata": {},
   "outputs": [
    {
     "name": "stdout",
     "output_type": "stream",
     "text": [
      "Enter the number : 8\n",
      "8\n",
      "Armstrong number\n"
     ]
    }
   ],
   "source": [
    "#armstrong number\n",
    "\n",
    "n = input(\"Enter the number : \")\n",
    "\n",
    "power = len(n)\n",
    "total = 0\n",
    "for i in n:\n",
    "    total = total + (int(i)**power)\n",
    "print(total)\n",
    "if total == int(n):\n",
    "    print(\"Armstrong number\")\n",
    "else:\n",
    "    print(\"Not a n armstrong number\")"
   ]
  },
  {
   "cell_type": "code",
   "execution_count": 37,
   "id": "7e4bf3ff",
   "metadata": {},
   "outputs": [
    {
     "name": "stdout",
     "output_type": "stream",
     "text": [
      "Enter the number : 4\n",
      "0\n",
      "1\n",
      "1\n",
      "2\n",
      "3\n"
     ]
    }
   ],
   "source": [
    "#febonacci series\n",
    "\n",
    "first = 0\n",
    "second = 1\n",
    "result = 0\n",
    "m = int(input(\"Enter the number : \"))\n",
    "for i in range(m+1):\n",
    "    if i <= 1:\n",
    "        result = i\n",
    "    else:\n",
    "        result = first + second\n",
    "        first = second\n",
    "        second = result\n",
    "    print(result)"
   ]
  },
  {
   "cell_type": "code",
   "execution_count": 37,
   "id": "862de4d4",
   "metadata": {},
   "outputs": [
    {
     "name": "stdout",
     "output_type": "stream",
     "text": [
      "not palindrome\n"
     ]
    }
   ],
   "source": [
    "#palindrome string\n",
    "\n",
    "n = \"namana\"\n",
    "\n",
    "if n == n[::-1]:\n",
    "    print(\"palindrome\")\n",
    "else:\n",
    "    print(\"not palindrome\")\n",
    "\n"
   ]
  },
  {
   "cell_type": "code",
   "execution_count": 48,
   "id": "526b3377",
   "metadata": {},
   "outputs": [
    {
     "name": "stdout",
     "output_type": "stream",
     "text": [
      "Enter the number : 1221\n",
      "1221\n",
      "palindrome\n"
     ]
    }
   ],
   "source": [
    "#palindrome number\n",
    "\n",
    "n = int(input(\"Enter the number : \"))\n",
    "reverse = 0\n",
    "temp = n                      #important step\n",
    "while temp!=0:\n",
    "    reverse = reverse*10 + temp%10\n",
    "    temp = temp//10\n",
    "print(reverse)\n",
    "if reverse == n:\n",
    "    print(\"palindrome\")\n",
    "else:\n",
    "    print(\"Not a palindrome number\")\n",
    "    \n"
   ]
  },
  {
   "cell_type": "code",
   "execution_count": 20,
   "id": "4c79a94e",
   "metadata": {},
   "outputs": [
    {
     "name": "stdout",
     "output_type": "stream",
     "text": [
      "Enter the number : 24\n",
      "576\n"
     ]
    }
   ],
   "source": [
    "#square of number\n",
    "\n",
    "n = int(input(\"Enter the number : \"))\n",
    "square = n * n\n",
    "print(square)"
   ]
  },
  {
   "cell_type": "code",
   "execution_count": 16,
   "id": "0824f120",
   "metadata": {},
   "outputs": [
    {
     "name": "stdout",
     "output_type": "stream",
     "text": [
      "Enter the number : rohan\n",
      "Enter only number\n"
     ]
    }
   ],
   "source": [
    "#power with exception\n",
    "\n",
    "def pow(a,b):\n",
    "    power = a**b\n",
    "    return power\n",
    "try:\n",
    "    n = int(input(\"Enter the number : \"))\n",
    "    m = int(input(\"Enter the power : \"))\n",
    "except ValueError:\n",
    "    print(\"Enter only number\")\n",
    "else:\n",
    "    power = pow(n,m)\n",
    "    print(\"Ans = \",power)"
   ]
  },
  {
   "cell_type": "code",
   "execution_count": 27,
   "id": "1747493d",
   "metadata": {},
   "outputs": [
    {
     "name": "stdout",
     "output_type": "stream",
     "text": [
      "Enter the number : 4\n",
      "24\n"
     ]
    }
   ],
   "source": [
    "#Factorial\n",
    "\n",
    "m = int(input(\"Enter the number : \"))\n",
    "factorial = 1\n",
    "for i in range(1,m+1):\n",
    "    factorial = factorial * i\n",
    "print(factorial)\n"
   ]
  },
  {
   "cell_type": "code",
   "execution_count": 5,
   "id": "5fb722ec",
   "metadata": {},
   "outputs": [
    {
     "name": "stdout",
     "output_type": "stream",
     "text": [
      "Enter the number : 123\n",
      "number is not binary\n"
     ]
    }
   ],
   "source": [
    "# number is binary or not\n",
    "\n",
    "num = int(input(\"Enter the number : \"))\n",
    "while(num>0):\n",
    "    j = num%10\n",
    "    if j!=0 and j!=1:\n",
    "        print(\"number is not binary\")\n",
    "        break\n",
    "#     num = num//10          #imp step\n",
    "#     if num==0:\n",
    "    else:\n",
    "        print(\"Binary number\")\n",
    "        break"
   ]
  },
  {
   "cell_type": "code",
   "execution_count": 10,
   "id": "e3a06d36",
   "metadata": {},
   "outputs": [
    {
     "name": "stdout",
     "output_type": "stream",
     "text": [
      "Enter the number : 10\n",
      "1010"
     ]
    }
   ],
   "source": [
    "#decimal to binary by recursion  learn it!!!!\n",
    "\n",
    "\n",
    "def conversion(num):\n",
    "    if num>=1:\n",
    "        conversion(num//2)\n",
    "        print (num%2,end=\"\")\n",
    "    \n",
    "num = int(input(\"Enter the number : \"))\n",
    "conversion(num)"
   ]
  },
  {
   "cell_type": "code",
   "execution_count": 18,
   "id": "ec0fb41b",
   "metadata": {},
   "outputs": [
    {
     "name": "stdout",
     "output_type": "stream",
     "text": [
      "The LCM is  216\n"
     ]
    }
   ],
   "source": [
    "#lcm of two numbers\n",
    "\n",
    "def lcm(x,y):\n",
    "    if x>y:\n",
    "        greater = x\n",
    "    else:\n",
    "        greater = y\n",
    "        \n",
    "    while(True):\n",
    "        if ((greater % x ==0) and (greater % y ==0)):\n",
    "            lcm1 = greater\n",
    "            break\n",
    "        greater += 1\n",
    "        \n",
    "    return lcm1\n",
    "\n",
    "num1 = 54\n",
    "num2 = 24\n",
    "\n",
    "print(\"The LCM is \",lcm(num1,num2))"
   ]
  },
  {
   "cell_type": "code",
   "execution_count": 16,
   "id": "38fdf33d",
   "metadata": {},
   "outputs": [
    {
     "name": "stdout",
     "output_type": "stream",
     "text": [
      "Enter the number : 2023\n",
      "2023  is not a leap year\n"
     ]
    }
   ],
   "source": [
    "#leap year\n",
    "try:\n",
    "    year = int(input(\"Enter the number : \"))\n",
    "    if (year%100 == 0) and (year % 400 ==0):\n",
    "        print(year,\" is a leap year\")\n",
    "    elif (year%4 ==0) and (year%100 !=0):\n",
    "        print(year,\" is a leap year\")\n",
    "    else:\n",
    "        print(year,\" is not a leap year\")\n",
    "except ValueError:\n",
    "    print(\"Wrong input\")"
   ]
  },
  {
   "cell_type": "code",
   "execution_count": 21,
   "id": "a8caffff",
   "metadata": {},
   "outputs": [
    {
     "name": "stdout",
     "output_type": "stream",
     "text": [
      "Enter the celcius : 12\n",
      "12.0 c =  53.6 F\n"
     ]
    }
   ],
   "source": [
    "# celcius to farenheit\n",
    "\n",
    "celcius = float(input(\"Enter the celcius : \"))\n",
    "farenheit = celcius*(9/5) + 32\n",
    "print(celcius,\"c = \",farenheit,\"F\")"
   ]
  },
  {
   "cell_type": "code",
   "execution_count": 23,
   "id": "1a286811",
   "metadata": {},
   "outputs": [
    {
     "name": "stdout",
     "output_type": "stream",
     "text": [
      "Enter the string : rohan\n",
      "Enter the character to be removed : r\n",
      " ohan\n"
     ]
    }
   ],
   "source": [
    "#remove charater from string\n",
    "\n",
    "s = input(\"Enter the string : \")\n",
    "a = input(\"Enter the character to be removed : \")\n",
    "\n",
    "for i in s:\n",
    "    if a == i:\n",
    "        print(s.replace(a,\" \"))"
   ]
  },
  {
   "cell_type": "code",
   "execution_count": 29,
   "id": "35d2767f",
   "metadata": {},
   "outputs": [
    {
     "name": "stdout",
     "output_type": "stream",
     "text": [
      "Enter the string : 1234\n",
      "Enter the character to see occurence : d\n",
      "occurance of  d is 0 times\n"
     ]
    }
   ],
   "source": [
    "#count occurence of given character\n",
    "\n",
    "s = input(\"Enter the string : \")\n",
    "a = input(\"Enter the character to see occurence : \")\n",
    "\n",
    "print(\"occurance of \",a,\"is\",s.count(a),\"times\")"
   ]
  },
  {
   "cell_type": "code",
   "execution_count": 32,
   "id": "984aed14",
   "metadata": {},
   "outputs": [
    {
     "name": "stdout",
     "output_type": "stream",
     "text": [
      "Enter the string : rohra\n",
      "Enter the character to see occurence : r\n",
      "count of  r is 2\n"
     ]
    }
   ],
   "source": [
    "# manual count\n",
    "\n",
    "s = input(\"Enter the string : \")\n",
    "a = input(\"Enter the character to see occurence : \")\n",
    "\n",
    "count = 0\n",
    "for i in s:\n",
    "    if a==i:\n",
    "        count = count + 1\n",
    "print(\"count of \",a,\"is\",count)\n",
    "        \n"
   ]
  },
  {
   "cell_type": "code",
   "execution_count": 36,
   "id": "7e413368",
   "metadata": {},
   "outputs": [
    {
     "name": "stdout",
     "output_type": "stream",
     "text": [
      "Enter the character : a\n",
      "consonent\n"
     ]
    }
   ],
   "source": [
    "#vowel or consonent\n",
    "\n",
    "a =input(\"Enter the character : \")\n",
    "\n",
    "if a in (\"a\",\"e\",\"i\",\"o\",\"u\"):\n",
    "    print(\"vowel\")\n",
    "else:\n",
    "    print(\"consonent\")"
   ]
  },
  {
   "cell_type": "code",
   "execution_count": 51,
   "id": "475c15b7",
   "metadata": {},
   "outputs": [
    {
     "name": "stdout",
     "output_type": "stream",
     "text": [
      "Enter the character : rdssv\n",
      "Not digit\n"
     ]
    }
   ],
   "source": [
    "#character is digit or not\n",
    "\n",
    "a =input(\"Enter the character : \")\n",
    "for i in a:\n",
    "    if i>='0' and i<='9':     #important  or use isdigit()\n",
    "        Digit = True\n",
    "    else:\n",
    "        Digit = False\n",
    "if Digit==True:\n",
    "    print(\"Digit\")\n",
    "else:\n",
    "    print(\"Not digit\")"
   ]
  },
  {
   "cell_type": "code",
   "execution_count": 54,
   "id": "8f0f983d",
   "metadata": {},
   "outputs": [
    {
     "name": "stdout",
     "output_type": "stream",
     "text": [
      "Enter the charactr : 23vzxc\n",
      "Not a digit\n"
     ]
    }
   ],
   "source": [
    "a = input(\"Enter the charactr : \")\n",
    "if a.isdigit()==True:\n",
    "    print(\"Digit\")\n",
    "else:\n",
    "    print(\"Not a digit\")"
   ]
  },
  {
   "cell_type": "code",
   "execution_count": 56,
   "id": "a7df7c77",
   "metadata": {},
   "outputs": [
    {
     "name": "stdout",
     "output_type": "stream",
     "text": [
      "Enter the name :rohan\n",
      "rohan\n"
     ]
    }
   ],
   "source": [
    "#upper case\n",
    "\n",
    "a = input(\"Enter the name :\")\n",
    "a.upper()\n",
    "# print(a)"
   ]
  },
  {
   "cell_type": "code",
   "execution_count": 60,
   "id": "f992815c",
   "metadata": {},
   "outputs": [
    {
     "data": {
      "text/plain": [
       "True"
      ]
     },
     "execution_count": 60,
     "metadata": {},
     "output_type": "execute_result"
    }
   ],
   "source": [
    "\n",
    "a = \"roahn\"\n",
    "a.isalpha()"
   ]
  },
  {
   "cell_type": "code",
   "execution_count": 63,
   "id": "04fe00cc",
   "metadata": {},
   "outputs": [
    {
     "name": "stdout",
     "output_type": "stream",
     "text": [
      "Enter first string :rohan@\n",
      "Enter second string : 123\n",
      "1rohan@2rohan@3\n"
     ]
    }
   ],
   "source": [
    "# join\n",
    "\n",
    "str1 = input(\"Enter first string :\")\n",
    "str2 = input(\"Enter second string : \")\n",
    "\n",
    "print(\"String after concatination : \",\"\".join([str1,str2]))\n"
   ]
  },
  {
   "cell_type": "code",
   "execution_count": 64,
   "id": "eb33d193",
   "metadata": {},
   "outputs": [
    {
     "name": "stdout",
     "output_type": "stream",
     "text": [
      "Enter first string :rohan\n",
      "Enter second string : @123\n",
      "rohan@123\n"
     ]
    }
   ],
   "source": [
    "#join by + operator\n",
    "\n",
    "str1 = input(\"Enter first string :\")\n",
    "str2 = input(\"Enter second string : \")\n",
    "\n",
    "print(str1+str2)"
   ]
  },
  {
   "cell_type": "code",
   "execution_count": 66,
   "id": "b00006b3",
   "metadata": {},
   "outputs": [
    {
     "name": "stdout",
     "output_type": "stream",
     "text": [
      "Enter the string : 56chetan5\n",
      "16\n"
     ]
    }
   ],
   "source": [
    "#sum of integers in string\n",
    "\n",
    "a = input(\"Enter the string : \")\n",
    "sum=0\n",
    "for i in a:\n",
    "    if i.isdigit():\n",
    "        sum = sum+int(i)\n",
    "print(sum)"
   ]
  },
  {
   "cell_type": "code",
   "execution_count": null,
   "id": "f7ba5aae",
   "metadata": {},
   "outputs": [],
   "source": [
    "#repeatating characters in string   incomplete\n",
    "\n",
    "a = input(\"Enter the string : \")    #rohra\n",
    "for i in a:\n",
    "    count = 0\n",
    "    for j in a:\n",
    "        if j == i:\n",
    "            count = count+1"
   ]
  },
  {
   "cell_type": "code",
   "execution_count": 78,
   "id": "074dde07",
   "metadata": {},
   "outputs": [
    {
     "name": "stdout",
     "output_type": "stream",
     "text": [
      "Enter the string : rohan\n",
      "None\n"
     ]
    }
   ],
   "source": [
    "#sort-----only for lists and not for strings\n",
    "a = input(\"Enter the string : \")\n",
    "ls = list(a)\n",
    "# print(ls)\n",
    "m = ls.sort(reverse = False)\n",
    "print(m)"
   ]
  }
 ],
 "metadata": {
  "kernelspec": {
   "display_name": "Python 3 (ipykernel)",
   "language": "python",
   "name": "python3"
  },
  "language_info": {
   "codemirror_mode": {
    "name": "ipython",
    "version": 3
   },
   "file_extension": ".py",
   "mimetype": "text/x-python",
   "name": "python",
   "nbconvert_exporter": "python",
   "pygments_lexer": "ipython3",
   "version": "3.9.12"
  }
 },
 "nbformat": 4,
 "nbformat_minor": 5
}
