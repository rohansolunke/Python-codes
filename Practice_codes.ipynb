{
 "cells": [
  {
   "cell_type": "code",
   "execution_count": 12,
   "id": "fc5b965e",
   "metadata": {},
   "outputs": [
    {
     "name": "stdout",
     "output_type": "stream",
     "text": [
      "Enter the number : 5\n",
      "prime\n"
     ]
    }
   ],
   "source": [
    "# Prime numbers\n",
    "\n",
    "i,temp=0,0\n",
    "n = int(input(\"Enter the number : \"))\n",
    "# n=23\n",
    "for i in range(2,n//2):\n",
    "    if n%i == 0:\n",
    "        temp=1\n",
    "        break\n",
    "if temp == 1:\n",
    "    print(\"not prime\")\n",
    "else:\n",
    "    print(\"prime\")"
   ]
  },
  {
   "cell_type": "code",
   "execution_count": 9,
   "id": "5ebb473e",
   "metadata": {
    "scrolled": true
   },
   "outputs": [
    {
     "data": {
      "text/plain": [
       "11"
      ]
     },
     "execution_count": 9,
     "metadata": {},
     "output_type": "execute_result"
    }
   ],
   "source": [
    "23//2"
   ]
  },
  {
   "cell_type": "code",
   "execution_count": 7,
   "id": "a5399309",
   "metadata": {},
   "outputs": [
    {
     "name": "stdout",
     "output_type": "stream",
     "text": [
      "10 20 30 40 "
     ]
    }
   ],
   "source": [
    "#for lop\n",
    "\n",
    "a = [10,20,30,40]\n",
    "for num in a:\n",
    "    print(num,end=\" \")"
   ]
  },
  {
   "cell_type": "code",
   "execution_count": 40,
   "id": "31405d63",
   "metadata": {},
   "outputs": [
    {
     "name": "stdout",
     "output_type": "stream",
     "text": [
      "Enter the number1 : 33\n",
      "Enter the number2 : 2\n",
      "Enter the number3 : 55\n",
      "largest number is 55\n"
     ]
    }
   ],
   "source": [
    "# greatest of 3\n",
    "\n",
    "n1 = int(input(\"Enter the number1 : \")) \n",
    "n2 = int(input(\"Enter the number2 : \")) \n",
    "n3 = int(input(\"Enter the number3 : \")) \n",
    "\n",
    "if (n1>n2) and (n1>n3):\n",
    "    largest=n1\n",
    "elif (n2>n1) and (n2>n3):\n",
    "    largest=n2\n",
    "else:\n",
    "    largest=n3\n",
    "    \n",
    "print(\"largest number is\",largest)"
   ]
  },
  {
   "cell_type": "code",
   "execution_count": 42,
   "id": "0395138a",
   "metadata": {},
   "outputs": [
    {
     "name": "stdout",
     "output_type": "stream",
     "text": [
      "Enter the number25\n",
      "5.0\n"
     ]
    }
   ],
   "source": [
    "#squareroot of number\n",
    "\n",
    "n = int(input(\"Enter the number\"))\n",
    "\n",
    "print(n**0.5)"
   ]
  },
  {
   "cell_type": "code",
   "execution_count": 45,
   "id": "64d662b1",
   "metadata": {},
   "outputs": [
    {
     "name": "stdout",
     "output_type": "stream",
     "text": [
      "Enter the namePrachi chutiya\n",
      "PRACHI CHUTIYA\n"
     ]
    }
   ],
   "source": [
    "n = input(\"Enter the name\")\n",
    "\n",
    "print(n.upper())"
   ]
  },
  {
   "cell_type": "code",
   "execution_count": 33,
   "id": "4d99aedc",
   "metadata": {},
   "outputs": [
    {
     "name": "stdout",
     "output_type": "stream",
     "text": [
      "ENter the number34\n",
      "Even\n"
     ]
    }
   ],
   "source": [
    "#even odd\n",
    "\n",
    "n = int(input(\"ENter the number\"))\n",
    "\n",
    "if n%2==0:\n",
    "    print(\"Even\")\n",
    "else:\n",
    "    print(\"Odd\")"
   ]
  },
  {
   "cell_type": "code",
   "execution_count": 38,
   "id": "d0e3152c",
   "metadata": {},
   "outputs": [
    {
     "name": "stdout",
     "output_type": "stream",
     "text": [
      "Enter the value for a :23\n",
      "Enter the value for b :21\n",
      "Enter the value for c :4\n",
      "4  is smallest\n"
     ]
    }
   ],
   "source": [
    "#smallest of 3\n",
    "\n",
    "a = int(input(\"Enter the value for a :\"))\n",
    "b = int(input(\"Enter the value for b :\"))\n",
    "c = int(input(\"Enter the value for c :\"))\n",
    "\n",
    "if a<=b and a<=c:\n",
    "\tprint(a,\" is smallest\")\n",
    "elif b<=a and b<=c:\n",
    "\tprint(b,\" is smallest\")\n",
    "elif c<=a and c<=b:\n",
    "\tprint(c,\" is smallest\")"
   ]
  },
  {
   "cell_type": "code",
   "execution_count": null,
   "id": "f208f9c9",
   "metadata": {},
   "outputs": [],
   "source": [
    "#reverse intergers\n",
    "\n",
    "n = int(input(\"ENter the number : \"))\n",
    "print(\"Number before reverse : \",n)\n",
    "reverse = 0\n",
    "while n!=0\n",
    "    reverse = reverse*10 + n%10\n",
    "    n = (n//10)"
   ]
  },
  {
   "cell_type": "code",
   "execution_count": 1,
   "id": "86e94d6e",
   "metadata": {},
   "outputs": [
    {
     "name": "stdout",
     "output_type": "stream",
     "text": [
      "3 2\n"
     ]
    }
   ],
   "source": [
    "#Armstrong number\n",
    "\n"
   ]
  },
  {
   "cell_type": "code",
   "execution_count": 30,
   "id": "96124a13",
   "metadata": {},
   "outputs": [
    {
     "name": "stdout",
     "output_type": "stream",
     "text": [
      "Enter the number5\n",
      "0\n",
      "1\n",
      "1\n",
      "2\n",
      "3\n"
     ]
    }
   ],
   "source": [
    "#febonassi series\n",
    "\n",
    "first=0\n",
    "second=1\n",
    "# result=0\n",
    "n = int(input(\"Enter the number\"))\n",
    "for i in range(0,n):\n",
    "    if i<=1:\n",
    "        result=i\n",
    "    else:\n",
    "        result=first + second\n",
    "        first = second\n",
    "        second = result\n",
    "    print(result)\n",
    "    "
   ]
  },
  {
   "cell_type": "code",
   "execution_count": 2,
   "id": "41011590",
   "metadata": {},
   "outputs": [
    {
     "name": "stdout",
     "output_type": "stream",
     "text": [
      "Enter the num1010\n",
      "not binary\n"
     ]
    }
   ],
   "source": [
    "n = int(input(\"Enter the num\"))\n",
    "\n",
    "# while (n>0):\n",
    "#     j = n%10\n",
    "#     if j!=0 and j!=1:\n",
    "#         print(\"num is not binary\")\n",
    "#         break\n",
    "#     n = n//10\n",
    "#     if n == 0:\n",
    "\n",
    "    "
   ]
  },
  {
   "cell_type": "code",
   "execution_count": 7,
   "id": "7ec40457",
   "metadata": {
    "scrolled": true
   },
   "outputs": [
    {
     "name": "stdout",
     "output_type": "stream",
     "text": [
      "Enter the sixe of arr2\n",
      "Enter the element23\n",
      "Enter the element1\n",
      "largest in the array is  23\n",
      "Smallest in the array is  1\n"
     ]
    }
   ],
   "source": [
    "#smallest in array\n",
    "\n",
    "arr = []\n",
    "n = int(input(\"Enter the sixe of arr\"))\n",
    "\n",
    "for x in range(n):\n",
    "    x = int(input(\"Enter the element\"))\n",
    "    arr.append(x)\n",
    "largest = arr[0]\n",
    "smallest = arr[0]\n",
    "for i in range(n):\n",
    "    if arr[i]>largest:\n",
    "        largest = arr[i]\n",
    "    if arr[i]<smallest:\n",
    "        smallest = arr[i]\n",
    "        \n",
    "print(\"largest in the array is \",largest)\n",
    "print(\"Smallest in the array is \",smallest)\n",
    "\n"
   ]
  },
  {
   "cell_type": "code",
   "execution_count": 6,
   "id": "d6cd0de6",
   "metadata": {},
   "outputs": [
    {
     "name": "stdout",
     "output_type": "stream",
     "text": [
      "Enter the number : 10\n",
      "55\n"
     ]
    }
   ],
   "source": [
    "n = int(input(\"Enter the number : \"))\n",
    "sum = 0\n",
    "for i in range(0,n+1):\n",
    "    sum = sum + i\n",
    "print(sum)"
   ]
  },
  {
   "cell_type": "code",
   "execution_count": 1,
   "id": "759570eb",
   "metadata": {},
   "outputs": [
    {
     "name": "stdout",
     "output_type": "stream",
     "text": [
      "Enter the size of array3\n",
      "Enter the number11\n",
      "Enter the number22\n",
      "Enter the number33\n",
      "Normal Array =  [11, 22, 33]\n",
      "Array in reverse order\n",
      "[33, 22, 11]\n"
     ]
    }
   ],
   "source": [
    "#print reverse array\n",
    "size  = int(input(\"Enter the size of array\"))\n",
    "arr = []\n",
    "revarr = []\n",
    "\n",
    "for x in range(size):\n",
    "    elem = int(input(\"Enter the number\"))\n",
    "    arr.append(elem)\n",
    "print(\"Normal Array = \",arr)\n",
    "startIndex = 0\n",
    "lastIndex = size - 1\n",
    "\n",
    "while (lastIndex>=0):\n",
    "    revarr.append(arr[lastIndex])\n",
    "#     startIndex+=1\n",
    "    lastIndex-=1\n",
    "    \n",
    "print(\"Array in reverse order\")\n",
    "print(revarr)\n",
    "# for i in range(0,size):\n",
    "#     print(revarr[i])\n",
    "    \n",
    "    "
   ]
  },
  {
   "cell_type": "code",
   "execution_count": 25,
   "id": "924ef87b",
   "metadata": {
    "scrolled": true
   },
   "outputs": [
    {
     "name": "stdout",
     "output_type": "stream",
     "text": [
      "Enter size4\n",
      "Enter number11\n",
      "Enter number22\n",
      "Enter number33\n",
      "Enter number44\n",
      "Array before reverse:  [11, 22, 33, 44]\n",
      "Array after reverse :  [44, 33, 22, 11]\n"
     ]
    }
   ],
   "source": [
    "arr = []\n",
    "size = int(input(\"Enter size\"))\n",
    "\n",
    "for i in range(size):\n",
    "    ele = int(input(\"Enter number\"))\n",
    "    arr.append(ele)\n",
    "print(\"Array before reverse: \",arr)\n",
    "res = arr[::-1]\n",
    "print(\"Array after reverse : \",res)"
   ]
  },
  {
   "cell_type": "code",
   "execution_count": 12,
   "id": "ca4ceefd",
   "metadata": {},
   "outputs": [
    {
     "name": "stdout",
     "output_type": "stream",
     "text": [
      "[10, 20, 3, 3, 4, 5, 6, 6, 'rohan']\n",
      "[10, 3, 3, 4, 5, 6, 6, 'rohan']\n"
     ]
    }
   ],
   "source": [
    "arr =[10,20,3,3,4,5,6,6,6,\"rohan\"]\n",
    "# arr[2][3]\n",
    "# arr\n",
    "# arr.count(\"rohan\")\n",
    "arr.pop(6)   #remove last element and return its value\n",
    "print(arr)\n",
    "arr.pop(1)   #if valur is not present,it will consider it as index\n",
    "print(arr)"
   ]
  },
  {
   "cell_type": "code",
   "execution_count": 8,
   "id": "c0aa6c47",
   "metadata": {},
   "outputs": [
    {
     "name": "stdout",
     "output_type": "stream",
     "text": [
      "Enter the number1\n",
      "prime number\n"
     ]
    }
   ],
   "source": [
    "#prime number\n",
    "temp=0\n",
    "n=int(input(\"Enter the number\"))\n",
    "for i in range(2,n//2+1):\n",
    "    if n%i == 0:\n",
    "        temp=1\n",
    "        break\n",
    "if temp==1:\n",
    "    print(\"Not a prime number\")\n",
    "else:\n",
    "    print(\"prime number\")"
   ]
  },
  {
   "cell_type": "code",
   "execution_count": 11,
   "id": "631746c2",
   "metadata": {},
   "outputs": [
    {
     "name": "stdout",
     "output_type": "stream",
     "text": [
      "Enter the number12345\n",
      "54321\n"
     ]
    }
   ],
   "source": [
    "#reverse number\n",
    "\n",
    "n = int(input(\"Enter the number : \"))\n",
    "reverse = 0\n",
    "while n!=0:\n",
    "    reverse = reverse*10 + n%10\n",
    "    n = n//10\n",
    "print(reverse) "
   ]
  },
  {
   "cell_type": "code",
   "execution_count": 15,
   "id": "3dfe84d7",
   "metadata": {},
   "outputs": [
    {
     "name": "stdout",
     "output_type": "stream",
     "text": [
      "enter number23\n",
      "enter number55\n",
      "Before swap\n",
      "a= 23\n",
      "b= 55\n",
      "After swap\n",
      "a= 55\n",
      "b= 23\n"
     ]
    }
   ],
   "source": [
    "#swap\n",
    "\n",
    "a = int(input(\"enter number\"))\n",
    "b = int(input(\"enter number\"))\n",
    "print(\"Before swap\")\n",
    "print(\"a=\",a)\n",
    "print(\"b=\",b)\n",
    "a,b=b,a\n",
    "print(\"After swap\")\n",
    "print(\"a=\",a)\n",
    "print(\"b=\",b)"
   ]
  },
  {
   "cell_type": "code",
   "execution_count": 24,
   "id": "7ba27f39",
   "metadata": {},
   "outputs": [
    {
     "name": "stdout",
     "output_type": "stream",
     "text": [
      "234\n"
     ]
    },
    {
     "ename": "AttributeError",
     "evalue": "'int' object has no attribute 'reverse'",
     "output_type": "error",
     "traceback": [
      "\u001b[1;31m---------------------------------------------------------------------------\u001b[0m",
      "\u001b[1;31mAttributeError\u001b[0m                            Traceback (most recent call last)",
      "Input \u001b[1;32mIn [24]\u001b[0m, in \u001b[0;36m<cell line: 3>\u001b[1;34m()\u001b[0m\n\u001b[0;32m      1\u001b[0m n \u001b[38;5;241m=\u001b[39m \u001b[38;5;241m234\u001b[39m\n\u001b[0;32m      2\u001b[0m \u001b[38;5;28mprint\u001b[39m(n)\n\u001b[1;32m----> 3\u001b[0m \u001b[43mn\u001b[49m\u001b[38;5;241;43m.\u001b[39;49m\u001b[43mreverse\u001b[49m()\n\u001b[0;32m      4\u001b[0m \u001b[38;5;28mprint\u001b[39m(n)\n",
      "\u001b[1;31mAttributeError\u001b[0m: 'int' object has no attribute 'reverse'"
     ]
    }
   ],
   "source": [
    "n = 234\n",
    "print(n)\n",
    "n.reverse()\n",
    "print(n)\n"
   ]
  },
  {
   "cell_type": "code",
   "execution_count": 3,
   "id": "11f844da",
   "metadata": {},
   "outputs": [
    {
     "name": "stdout",
     "output_type": "stream",
     "text": [
      "Select operation\n",
      "1.Add\n",
      "2.Substract\n",
      "3.Multiply\n",
      "4.Divide\n",
      "Enter the choice(1/2/3/4)3\n",
      "Enter the first number12\n",
      "Enter second number23\n",
      "12 * 23 = 276\n"
     ]
    }
   ],
   "source": [
    "#calculator\n",
    "\n",
    "def add(x,y):\n",
    "    return x + y\n",
    "def substract(x,y):\n",
    "    return x - y\n",
    "def multiply(x,y):\n",
    "    return x * y\n",
    "def divide(x,y):\n",
    "    return x / y\n",
    "\n",
    "print(\"Select operation\")\n",
    "print(\"1.Add\")\n",
    "print(\"2.Substract\")\n",
    "print(\"3.Multiply\")\n",
    "print(\"4.Divide\")\n",
    "\n",
    "while True:\n",
    "    choice = int(input(\"Enter the choice(1/2/3/4)\"))\n",
    "    \n",
    "    if choice in range(1,5):\n",
    "        num1 = int(input(\"Enter the first number\"))\n",
    "        num2 = int(input(\"Enter second number\"))\n",
    "        \n",
    "        if choice == 1:\n",
    "            print(num1, \"+\", num2,\"=\",add(num1,num2))\n",
    "        \n",
    "        elif choice == 2:\n",
    "            print(num1, \"-\", num2,\"=\",substract(num1,num2))\n",
    "            \n",
    "        elif choice == 3:\n",
    "            print(num1, \"*\", num2,\"=\",multiply(num1,num2))\n",
    "            \n",
    "        else:\n",
    "            print(num1, \"/\", num2,\"=\",divide(num1,num2))\n",
    "        break  \n",
    "    else:\n",
    "        print(\"Incorrect choice\")"
   ]
  },
  {
   "cell_type": "code",
   "execution_count": 5,
   "id": "e8b86557",
   "metadata": {},
   "outputs": [
    {
     "data": {
      "text/plain": [
       "7"
      ]
     },
     "execution_count": 5,
     "metadata": {},
     "output_type": "execute_result"
    }
   ],
   "source": [
    "sh = \"I love rohan\"\n",
    "\n",
    "# sh.find('rohan') # gives index of firstcharacter of substring\n",
    "sh.split( ' ')    # seperates string by value entered"
   ]
  },
  {
   "cell_type": "code",
   "execution_count": 7,
   "id": "107ea2a3",
   "metadata": {},
   "outputs": [
    {
     "ename": "AttributeError",
     "evalue": "'tuple' object has no attribute 'append'",
     "output_type": "error",
     "traceback": [
      "\u001b[1;31m---------------------------------------------------------------------------\u001b[0m",
      "\u001b[1;31mAttributeError\u001b[0m                            Traceback (most recent call last)",
      "Input \u001b[1;32mIn [7]\u001b[0m, in \u001b[0;36m<cell line: 16>\u001b[1;34m()\u001b[0m\n\u001b[0;32m      9\u001b[0m tup2 \u001b[38;5;241m=\u001b[39m (\u001b[38;5;241m4\u001b[39m,\u001b[38;5;241m5\u001b[39m,\u001b[38;5;241m6\u001b[39m)\n\u001b[0;32m     10\u001b[0m \u001b[38;5;66;03m# tup1 + tup2 #concatination\u001b[39;00m\n\u001b[0;32m     11\u001b[0m \u001b[38;5;66;03m# tup1*3      #only concatination\u001b[39;00m\n\u001b[0;32m     12\u001b[0m \u001b[38;5;66;03m# tup1\u001b[39;00m\n\u001b[0;32m     13\u001b[0m \u001b[38;5;66;03m# tup1\u001b[39;00m\n\u001b[0;32m     14\u001b[0m \u001b[38;5;66;03m# min(tup1)\u001b[39;00m\n\u001b[0;32m     15\u001b[0m \u001b[38;5;66;03m# max(tup1)\u001b[39;00m\n\u001b[1;32m---> 16\u001b[0m \u001b[43mtup\u001b[49m\u001b[38;5;241;43m.\u001b[39;49m\u001b[43mappend\u001b[49m(\u001b[38;5;241m1\u001b[39m)\n",
      "\u001b[1;31mAttributeError\u001b[0m: 'tuple' object has no attribute 'append'"
     ]
    }
   ],
   "source": [
    "#Tuples---ordered collection of elements enclosed within()\n",
    "#immutable\n",
    "\n",
    "tup = (1,2,3)\n",
    "# type(tup)\n",
    "# tup[1:4]\n",
    "# tup[1] = False #cannot change (immutable)\n",
    "\n",
    "tup2 = (4,5,6)\n",
    "# tup1 + tup2 #concatination\n",
    "# tup1*3      #only concatination\n",
    "# tup1\n",
    "# tup1\n",
    "# min(tup1)\n",
    "# max(tup1)\n",
    "tup.append(1)\n",
    "\n"
   ]
  },
  {
   "cell_type": "code",
   "execution_count": null,
   "id": "d1d1e143",
   "metadata": {},
   "outputs": [],
   "source": [
    "ls = [1,2,3,4,5]\n",
    "for i in ls:\n",
    "#     i = i*2\n",
    "    ls.append(i*2)\n",
    "print(ls)\n"
   ]
  },
  {
   "cell_type": "code",
   "execution_count": null,
   "id": "f1b1ac41",
   "metadata": {},
   "outputs": [],
   "source": [
    "ls = [1,2,3,45]\n",
    "print(ls)"
   ]
  },
  {
   "cell_type": "code",
   "execution_count": 12,
   "id": "eebb8c8a",
   "metadata": {},
   "outputs": [
    {
     "name": "stdout",
     "output_type": "stream",
     "text": [
      "{'Apple': 50, 'Mango': 300, 'Banana': 500}\n"
     ]
    },
    {
     "data": {
      "text/plain": [
       "dict_values([50, 300, 500])"
      ]
     },
     "execution_count": 12,
     "metadata": {},
     "output_type": "execute_result"
    }
   ],
   "source": [
    "#Dictionaries ---mutable---key-value pairs\n",
    "\n",
    "d = {'Apple':50,'Mango':300,'Banana':500}\n",
    "print(d)\n",
    "# type(d)\n",
    "d.keys()\n",
    "d.values()"
   ]
  },
  {
   "cell_type": "code",
   "execution_count": 19,
   "id": "d4e1feb4",
   "metadata": {},
   "outputs": [
    {
     "name": "stdout",
     "output_type": "stream",
     "text": [
      "* \n",
      "* * \n",
      "* * * \n",
      "* * * * \n",
      "* * * * * \n"
     ]
    }
   ],
   "source": [
    "#star pattrn half pyramid\n",
    "\n",
    "for i in range(1,6):\n",
    "#     print('*')\n",
    "    for j in range(i):\n",
    "        print('*',end=' ')\n",
    "    print()\n",
    "   "
   ]
  },
  {
   "cell_type": "code",
   "execution_count": 23,
   "id": "2dbf51c6",
   "metadata": {},
   "outputs": [
    {
     "name": "stdout",
     "output_type": "stream",
     "text": [
      "24\n",
      "23\n"
     ]
    }
   ],
   "source": [
    "a=23\n",
    "b=24\n",
    "temp=a\n",
    "a=b\n",
    "b=temp\n",
    "print(a)\n",
    "print(b)"
   ]
  },
  {
   "cell_type": "code",
   "execution_count": 7,
   "id": "c98252c6",
   "metadata": {},
   "outputs": [
    {
     "name": "stdout",
     "output_type": "stream",
     "text": [
      "['h', 'e', 'l', 'l', ' ', 'i', 'a', ' ', 'm', ' ', 'a', 'r', 'o', 'h', 'a', 'n']\n"
     ]
    },
    {
     "ename": "AttributeError",
     "evalue": "'list' object has no attribute 'replace'",
     "output_type": "error",
     "traceback": [
      "\u001b[1;31m---------------------------------------------------------------------------\u001b[0m",
      "\u001b[1;31mAttributeError\u001b[0m                            Traceback (most recent call last)",
      "Input \u001b[1;32mIn [7]\u001b[0m, in \u001b[0;36m<cell line: 7>\u001b[1;34m()\u001b[0m\n\u001b[0;32m      5\u001b[0m ls \u001b[38;5;241m=\u001b[39m \u001b[38;5;28mlist\u001b[39m(a)\n\u001b[0;32m      6\u001b[0m \u001b[38;5;28mprint\u001b[39m(ls)\n\u001b[1;32m----> 7\u001b[0m \u001b[43mls\u001b[49m\u001b[38;5;241;43m.\u001b[39;49m\u001b[43mreplace\u001b[49m(\u001b[38;5;124m'\u001b[39m\u001b[38;5;124ma\u001b[39m\u001b[38;5;124m'\u001b[39m,\u001b[38;5;124m'\u001b[39m\u001b[38;5;124ms\u001b[39m\u001b[38;5;124m'\u001b[39m)\n\u001b[0;32m      8\u001b[0m \u001b[38;5;28mprint\u001b[39m(ls)\n\u001b[0;32m      9\u001b[0m \u001b[38;5;28mprint\u001b[39m(a)\n",
      "\u001b[1;31mAttributeError\u001b[0m: 'list' object has no attribute 'replace'"
     ]
    }
   ],
   "source": [
    "#strings\n",
    "\n",
    "a = \"hell ia m arohan\"\n",
    "# print(a.replace('h','m'))\n",
    "ls = list(a)\n",
    "print(ls)\n",
    "# ls.replace('a','s')\n",
    "print(ls)\n",
    "print(a)"
   ]
  },
  {
   "cell_type": "code",
   "execution_count": 8,
   "id": "a49fc03e",
   "metadata": {},
   "outputs": [
    {
     "ename": "NameError",
     "evalue": "name 'mystack' is not defined",
     "output_type": "error",
     "traceback": [
      "\u001b[1;31m---------------------------------------------------------------------------\u001b[0m",
      "\u001b[1;31mNameError\u001b[0m                                 Traceback (most recent call last)",
      "Input \u001b[1;32mIn [8]\u001b[0m, in \u001b[0;36m<cell line: 3>\u001b[1;34m()\u001b[0m\n\u001b[0;32m      1\u001b[0m \u001b[38;5;66;03m#stack\u001b[39;00m\n\u001b[1;32m----> 3\u001b[0m s \u001b[38;5;241m=\u001b[39m \u001b[43mmystack\u001b[49m()\n\u001b[0;32m      4\u001b[0m s\u001b[38;5;241m.\u001b[39mpush(\u001b[38;5;241m10\u001b[39m)\n\u001b[0;32m      5\u001b[0m s\u001b[38;5;241m.\u001b[39mpush(\u001b[38;5;241m20\u001b[39m)\n",
      "\u001b[1;31mNameError\u001b[0m: name 'mystack' is not defined"
     ]
    }
   ],
   "source": [
    "#stack\n",
    "\n",
    "s = mystack()\n",
    "s.push(10)\n",
    "s.push(20)\n",
    "s.push(30)"
   ]
  }
 ],
 "metadata": {
  "kernelspec": {
   "display_name": "Python 3 (ipykernel)",
   "language": "python",
   "name": "python3"
  },
  "language_info": {
   "codemirror_mode": {
    "name": "ipython",
    "version": 3
   },
   "file_extension": ".py",
   "mimetype": "text/x-python",
   "name": "python",
   "nbconvert_exporter": "python",
   "pygments_lexer": "ipython3",
   "version": "3.9.12"
  }
 },
 "nbformat": 4,
 "nbformat_minor": 5
}
